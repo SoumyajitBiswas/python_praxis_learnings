{
  "nbformat": 4,
  "nbformat_minor": 0,
  "metadata": {
    "colab": {
      "provenance": []
    },
    "kernelspec": {
      "name": "python3",
      "display_name": "Python 3"
    },
    "language_info": {
      "name": "python"
    }
  },
  "cells": [
    {
      "cell_type": "code",
      "execution_count": null,
      "metadata": {
        "id": "1m2egiY2DsXp"
      },
      "outputs": [],
      "source": []
    },
    {
      "cell_type": "markdown",
      "source": [
        "# User Defined Functions.\n",
        "\n"
      ],
      "metadata": {
        "id": "7KCe4trdD6zc"
      }
    },
    {
      "cell_type": "code",
      "source": [
        "'''\n",
        "creating a user defined function which will input his or her name and display it on the screen\n",
        "'''"
      ],
      "metadata": {
        "colab": {
          "base_uri": "https://localhost:8080/",
          "height": 36
        },
        "id": "_Qh9YXk2EAIa",
        "outputId": "1a272d7f-541a-4b19-f60d-9c1e1c13ad94"
      },
      "execution_count": 1,
      "outputs": [
        {
          "output_type": "execute_result",
          "data": {
            "text/plain": [
              "'\\ncreating a user defined function which will input his or her name and display it on the screen\\n'"
            ],
            "application/vnd.google.colaboratory.intrinsic+json": {
              "type": "string"
            }
          },
          "metadata": {},
          "execution_count": 1
        }
      ]
    },
    {
      "cell_type": "code",
      "source": [
        "def print_name():\n",
        "  myname=input(\"enter your name :\")\n",
        "  return myname\n",
        "\n",
        "\n",
        "print_name()"
      ],
      "metadata": {
        "colab": {
          "base_uri": "https://localhost:8080/",
          "height": 53
        },
        "id": "2c3IqtJDELUy",
        "outputId": "50b0bafc-607f-47ef-b025-392d989c583b"
      },
      "execution_count": 2,
      "outputs": [
        {
          "name": "stdout",
          "output_type": "stream",
          "text": [
            "enter your name :SOUMO\n"
          ]
        },
        {
          "output_type": "execute_result",
          "data": {
            "text/plain": [
              "'SOUMO'"
            ],
            "application/vnd.google.colaboratory.intrinsic+json": {
              "type": "string"
            }
          },
          "metadata": {},
          "execution_count": 2
        }
      ]
    },
    {
      "cell_type": "code",
      "source": [
        "def compute_square(user_input):\n",
        "  return \"the Square of \",user_input,\"is: \",user_input**2\n",
        "\n",
        "compute_square(5)"
      ],
      "metadata": {
        "colab": {
          "base_uri": "https://localhost:8080/"
        },
        "id": "wDxe0y8-Ela2",
        "outputId": "a239a754-2cc1-4302-aadc-61145565095d"
      },
      "execution_count": 5,
      "outputs": [
        {
          "output_type": "execute_result",
          "data": {
            "text/plain": [
              "('the Square of ', 5, 'is: ', 25)"
            ]
          },
          "metadata": {},
          "execution_count": 5
        }
      ]
    },
    {
      "cell_type": "code",
      "source": [
        "## same thing using user input"
      ],
      "metadata": {
        "id": "-17XFNmpFF6L"
      },
      "execution_count": 6,
      "outputs": []
    },
    {
      "cell_type": "code",
      "source": [
        "user_input=int(input(\"ENTER THE NUMBER YOU WANT TO SQUARE : \"))\n",
        "def compute_square(user_input):\n",
        "  print (user_input**2)\n",
        "\n",
        "compute_square(user_input)"
      ],
      "metadata": {
        "colab": {
          "base_uri": "https://localhost:8080/"
        },
        "id": "Qm0_AeQ0FXic",
        "outputId": "e0a9b5e4-83e2-40de-dc27-da1fb6d42ebe"
      },
      "execution_count": 11,
      "outputs": [
        {
          "output_type": "stream",
          "name": "stdout",
          "text": [
            "ENTER THE NUMBER YOU WANT TO SQUARE : 5\n",
            "25\n"
          ]
        }
      ]
    },
    {
      "cell_type": "code",
      "source": [
        "compute_square(user_input)"
      ],
      "metadata": {
        "colab": {
          "base_uri": "https://localhost:8080/"
        },
        "id": "XQA-meLIF1Xm",
        "outputId": "b2f2e10f-d4f2-4805-c769-23abc8936a99"
      },
      "execution_count": 9,
      "outputs": [
        {
          "output_type": "stream",
          "name": "stdout",
          "text": [
            "25\n"
          ]
        }
      ]
    },
    {
      "cell_type": "code",
      "source": [
        "user_input=int(input(\"ENTER THE NUMBER YOU WANT TO SQUARE : \"))\n",
        "compute_square(user_input)"
      ],
      "metadata": {
        "colab": {
          "base_uri": "https://localhost:8080/"
        },
        "id": "BFGQbRGsGT4t",
        "outputId": "3b1df794-c5f4-4a6b-f019-75a3c4ebf2b8"
      },
      "execution_count": 10,
      "outputs": [
        {
          "output_type": "stream",
          "name": "stdout",
          "text": [
            "ENTER THE NUMBER YOU WANT TO SQUARE : 5\n",
            "25\n"
          ]
        }
      ]
    },
    {
      "cell_type": "markdown",
      "source": [
        "**Take two numbers as inputs ,create a function that displays a powred form**\n",
        "\n",
        "**of the values**"
      ],
      "metadata": {
        "id": "wmK00rhIG9VT"
      }
    },
    {
      "cell_type": "code",
      "source": [
        "def compute_pow(a,b):\n",
        "  return \"The value of\", a ,\"raise to the power of \",b ,\"is \",a**b\n",
        "\n",
        "compute_pow(5,4)"
      ],
      "metadata": {
        "colab": {
          "base_uri": "https://localhost:8080/"
        },
        "id": "wKatwt97GrXf",
        "outputId": "a5bf0a31-bb2e-41e2-adeb-978786280327"
      },
      "execution_count": 14,
      "outputs": [
        {
          "output_type": "execute_result",
          "data": {
            "text/plain": [
              "('The value of', 5, 'raise to the power of ', 4, 'is ', 625)"
            ]
          },
          "metadata": {},
          "execution_count": 14
        }
      ]
    },
    {
      "cell_type": "code",
      "source": [],
      "metadata": {
        "id": "ZE5GHS2IHNpq"
      },
      "execution_count": null,
      "outputs": []
    },
    {
      "cell_type": "code",
      "source": [],
      "metadata": {
        "id": "N1GFLpTiNV5E"
      },
      "execution_count": null,
      "outputs": []
    }
  ]
}